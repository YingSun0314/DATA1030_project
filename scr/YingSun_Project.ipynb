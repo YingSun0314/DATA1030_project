{
 "cells": [
  {
   "cell_type": "code",
   "execution_count": 1,
   "id": "a30440d1",
   "metadata": {
    "scrolled": true
   },
   "outputs": [
    {
     "data": {
      "text/html": [
       "<div>\n",
       "<style scoped>\n",
       "    .dataframe tbody tr th:only-of-type {\n",
       "        vertical-align: middle;\n",
       "    }\n",
       "\n",
       "    .dataframe tbody tr th {\n",
       "        vertical-align: top;\n",
       "    }\n",
       "\n",
       "    .dataframe thead th {\n",
       "        text-align: right;\n",
       "    }\n",
       "</style>\n",
       "<table border=\"1\" class=\"dataframe\">\n",
       "  <thead>\n",
       "    <tr style=\"text-align: right;\">\n",
       "      <th></th>\n",
       "      <th>tradeTime</th>\n",
       "      <th>DOM</th>\n",
       "      <th>followers</th>\n",
       "      <th>totalPrice</th>\n",
       "      <th>price</th>\n",
       "      <th>square</th>\n",
       "      <th>livingRoom</th>\n",
       "      <th>drawingRoom</th>\n",
       "      <th>kitchen</th>\n",
       "      <th>bathRoom</th>\n",
       "      <th>floor</th>\n",
       "      <th>buildingType</th>\n",
       "      <th>constructionTime</th>\n",
       "      <th>renovationCondition</th>\n",
       "      <th>buildingStructure</th>\n",
       "      <th>ladderRatio</th>\n",
       "      <th>elevator</th>\n",
       "      <th>fiveYearsProperty</th>\n",
       "      <th>subway</th>\n",
       "      <th>district</th>\n",
       "      <th>communityAverage</th>\n",
       "    </tr>\n",
       "  </thead>\n",
       "  <tbody>\n",
       "    <tr>\n",
       "      <th>0</th>\n",
       "      <td>2016-08-09</td>\n",
       "      <td>1464.0</td>\n",
       "      <td>106</td>\n",
       "      <td>415.0</td>\n",
       "      <td>31680</td>\n",
       "      <td>131.00</td>\n",
       "      <td>2</td>\n",
       "      <td>1</td>\n",
       "      <td>1</td>\n",
       "      <td>1</td>\n",
       "      <td>¸ß 26</td>\n",
       "      <td>1.0</td>\n",
       "      <td>2005</td>\n",
       "      <td>3</td>\n",
       "      <td>6</td>\n",
       "      <td>0.217</td>\n",
       "      <td>1.0</td>\n",
       "      <td>0.0</td>\n",
       "      <td>1.0</td>\n",
       "      <td>7</td>\n",
       "      <td>56021.0</td>\n",
       "    </tr>\n",
       "    <tr>\n",
       "      <th>1</th>\n",
       "      <td>2016-07-28</td>\n",
       "      <td>903.0</td>\n",
       "      <td>126</td>\n",
       "      <td>575.0</td>\n",
       "      <td>43436</td>\n",
       "      <td>132.38</td>\n",
       "      <td>2</td>\n",
       "      <td>2</td>\n",
       "      <td>1</td>\n",
       "      <td>2</td>\n",
       "      <td>¸ß 22</td>\n",
       "      <td>1.0</td>\n",
       "      <td>2004</td>\n",
       "      <td>4</td>\n",
       "      <td>6</td>\n",
       "      <td>0.667</td>\n",
       "      <td>1.0</td>\n",
       "      <td>1.0</td>\n",
       "      <td>0.0</td>\n",
       "      <td>7</td>\n",
       "      <td>71539.0</td>\n",
       "    </tr>\n",
       "    <tr>\n",
       "      <th>2</th>\n",
       "      <td>2016-12-11</td>\n",
       "      <td>1271.0</td>\n",
       "      <td>48</td>\n",
       "      <td>1030.0</td>\n",
       "      <td>52021</td>\n",
       "      <td>198.00</td>\n",
       "      <td>3</td>\n",
       "      <td>2</td>\n",
       "      <td>1</td>\n",
       "      <td>3</td>\n",
       "      <td>ÖÐ 4</td>\n",
       "      <td>4.0</td>\n",
       "      <td>2005</td>\n",
       "      <td>3</td>\n",
       "      <td>6</td>\n",
       "      <td>0.500</td>\n",
       "      <td>1.0</td>\n",
       "      <td>0.0</td>\n",
       "      <td>0.0</td>\n",
       "      <td>7</td>\n",
       "      <td>48160.0</td>\n",
       "    </tr>\n",
       "    <tr>\n",
       "      <th>3</th>\n",
       "      <td>2016-09-30</td>\n",
       "      <td>965.0</td>\n",
       "      <td>138</td>\n",
       "      <td>297.5</td>\n",
       "      <td>22202</td>\n",
       "      <td>134.00</td>\n",
       "      <td>3</td>\n",
       "      <td>1</td>\n",
       "      <td>1</td>\n",
       "      <td>1</td>\n",
       "      <td>µ× 21</td>\n",
       "      <td>1.0</td>\n",
       "      <td>2008</td>\n",
       "      <td>1</td>\n",
       "      <td>6</td>\n",
       "      <td>0.273</td>\n",
       "      <td>1.0</td>\n",
       "      <td>0.0</td>\n",
       "      <td>0.0</td>\n",
       "      <td>6</td>\n",
       "      <td>51238.0</td>\n",
       "    </tr>\n",
       "    <tr>\n",
       "      <th>4</th>\n",
       "      <td>2016-08-28</td>\n",
       "      <td>927.0</td>\n",
       "      <td>286</td>\n",
       "      <td>392.0</td>\n",
       "      <td>48396</td>\n",
       "      <td>81.00</td>\n",
       "      <td>2</td>\n",
       "      <td>1</td>\n",
       "      <td>1</td>\n",
       "      <td>1</td>\n",
       "      <td>ÖÐ 6</td>\n",
       "      <td>4.0</td>\n",
       "      <td>1960</td>\n",
       "      <td>2</td>\n",
       "      <td>2</td>\n",
       "      <td>0.333</td>\n",
       "      <td>0.0</td>\n",
       "      <td>1.0</td>\n",
       "      <td>1.0</td>\n",
       "      <td>1</td>\n",
       "      <td>62588.0</td>\n",
       "    </tr>\n",
       "  </tbody>\n",
       "</table>\n",
       "</div>"
      ],
      "text/plain": [
       "    tradeTime     DOM  followers  totalPrice  price  square livingRoom  \\\n",
       "0  2016-08-09  1464.0        106       415.0  31680  131.00          2   \n",
       "1  2016-07-28   903.0        126       575.0  43436  132.38          2   \n",
       "2  2016-12-11  1271.0         48      1030.0  52021  198.00          3   \n",
       "3  2016-09-30   965.0        138       297.5  22202  134.00          3   \n",
       "4  2016-08-28   927.0        286       392.0  48396   81.00          2   \n",
       "\n",
       "  drawingRoom  kitchen bathRoom  floor  buildingType constructionTime  \\\n",
       "0           1        1        1  ¸ß 26           1.0             2005   \n",
       "1           2        1        2  ¸ß 22           1.0             2004   \n",
       "2           2        1        3   ÖÐ 4           4.0             2005   \n",
       "3           1        1        1  µ× 21           1.0             2008   \n",
       "4           1        1        1   ÖÐ 6           4.0             1960   \n",
       "\n",
       "   renovationCondition  buildingStructure  ladderRatio  elevator  \\\n",
       "0                    3                  6        0.217       1.0   \n",
       "1                    4                  6        0.667       1.0   \n",
       "2                    3                  6        0.500       1.0   \n",
       "3                    1                  6        0.273       1.0   \n",
       "4                    2                  2        0.333       0.0   \n",
       "\n",
       "   fiveYearsProperty  subway  district  communityAverage  \n",
       "0                0.0     1.0         7           56021.0  \n",
       "1                1.0     0.0         7           71539.0  \n",
       "2                0.0     0.0         7           48160.0  \n",
       "3                0.0     0.0         6           51238.0  \n",
       "4                1.0     1.0         1           62588.0  "
      ]
     },
     "execution_count": 1,
     "metadata": {},
     "output_type": "execute_result"
    }
   ],
   "source": [
    "#import the csv file\n",
    "import numpy as np\n",
    "import pandas as pd\n",
    "import chardet\n",
    "file = r\"C:\\Users\\93691\\Documents\\DATA1030-Fall2021\\YingSun_DATA1030_project\\data\\new.csv\"\n",
    "df_origin = pd.read_csv(file,encoding='ISO-8859-1',low_memory=False) #use low_memory=False in case columns have mixed type. \n",
    "df = df_origin.drop(columns=['url','id','Lng','Lat','Cid']) # create a new df in case of some origin features will be used later\n",
    "with open(file, 'rb') as rawdata:\n",
    "    result = chardet.detect(rawdata.read(100000))\n",
    "result\n",
    "df = df.replace(\"????\" and \"nan\",np.nan)\n",
    "pd.set_option('display.max_columns', None) #display all columns\n",
    "df.head(5)"
   ]
  },
  {
   "cell_type": "code",
   "execution_count": 2,
   "id": "7671e31f",
   "metadata": {},
   "outputs": [
    {
     "name": "stdout",
     "output_type": "stream",
     "text": [
      "done\n"
     ]
    }
   ],
   "source": [
    "# change to the right data type\n",
    "df['livingRoom'] = df['livingRoom'].apply(pd.to_numeric, errors='coerce')\n",
    "df['drawingRoom'] = df['drawingRoom'].apply(pd.to_numeric, errors='coerce')\n",
    "df['bathRoom'] = df['bathRoom'].apply(pd.to_numeric, errors='coerce')\n",
    "df['constructionTime'] = df['constructionTime'].apply(pd.to_numeric, errors='coerce')\n",
    "print(\"done\")"
   ]
  },
  {
   "cell_type": "code",
   "execution_count": 3,
   "id": "176b7635",
   "metadata": {},
   "outputs": [
    {
     "name": "stdout",
     "output_type": "stream",
     "text": [
      "done\n"
     ]
    }
   ],
   "source": [
    "#convert tradeTime to int by delete \"-\"\n",
    "df['tradeTime'] = df['tradeTime'].str.replace('-', '').astype(int)\n",
    "print(\"done\")"
   ]
  },
  {
   "cell_type": "code",
   "execution_count": 4,
   "id": "c1753b01",
   "metadata": {},
   "outputs": [
    {
     "name": "stdout",
     "output_type": "stream",
     "text": [
      "done\n"
     ]
    }
   ],
   "source": [
    "#only keep the integer part in floor\n",
    "def floor_int(x):\n",
    "    try:\n",
    "        return int(x.split(' ')[1])\n",
    "    except:\n",
    "        return np.nan\n",
    "df['floor'] = df['floor'].apply(floor_int)\n",
    "print(\"done\")"
   ]
  },
  {
   "cell_type": "code",
   "execution_count": 5,
   "id": "82f14bfb",
   "metadata": {},
   "outputs": [
    {
     "name": "stdout",
     "output_type": "stream",
     "text": [
      "done\n"
     ]
    }
   ],
   "source": [
    "#some building type is <1, while it is a categorical feature, it only be 1,2,3,4. \n",
    "#I found that all other values except for 1:4 are all <1, so I use <1 here. \n",
    "df = df[df['buildingType']>=1]\n",
    "print(\"done\")"
   ]
  },
  {
   "cell_type": "code",
   "execution_count": 6,
   "id": "e2f9e4af",
   "metadata": {},
   "outputs": [
    {
     "data": {
      "text/html": [
       "<div>\n",
       "<style scoped>\n",
       "    .dataframe tbody tr th:only-of-type {\n",
       "        vertical-align: middle;\n",
       "    }\n",
       "\n",
       "    .dataframe tbody tr th {\n",
       "        vertical-align: top;\n",
       "    }\n",
       "\n",
       "    .dataframe thead th {\n",
       "        text-align: right;\n",
       "    }\n",
       "</style>\n",
       "<table border=\"1\" class=\"dataframe\">\n",
       "  <thead>\n",
       "    <tr style=\"text-align: right;\">\n",
       "      <th></th>\n",
       "      <th>tradeTime</th>\n",
       "      <th>DOM</th>\n",
       "      <th>followers</th>\n",
       "      <th>totalPrice</th>\n",
       "      <th>price</th>\n",
       "      <th>square</th>\n",
       "      <th>livingRoom</th>\n",
       "      <th>drawingRoom</th>\n",
       "      <th>kitchen</th>\n",
       "      <th>bathRoom</th>\n",
       "      <th>floor</th>\n",
       "      <th>buildingType</th>\n",
       "      <th>constructionTime</th>\n",
       "      <th>renovationCondition</th>\n",
       "      <th>buildingStructure</th>\n",
       "      <th>ladderRatio</th>\n",
       "      <th>elevator</th>\n",
       "      <th>fiveYearsProperty</th>\n",
       "      <th>subway</th>\n",
       "      <th>district</th>\n",
       "      <th>communityAverage</th>\n",
       "    </tr>\n",
       "  </thead>\n",
       "  <tbody>\n",
       "    <tr>\n",
       "      <th>0</th>\n",
       "      <td>20160809</td>\n",
       "      <td>1464.0</td>\n",
       "      <td>106</td>\n",
       "      <td>415.0</td>\n",
       "      <td>31680</td>\n",
       "      <td>131.00</td>\n",
       "      <td>2.0</td>\n",
       "      <td>1.0</td>\n",
       "      <td>1</td>\n",
       "      <td>1.0</td>\n",
       "      <td>26.0</td>\n",
       "      <td>1.0</td>\n",
       "      <td>2005.0</td>\n",
       "      <td>3</td>\n",
       "      <td>6</td>\n",
       "      <td>0.217</td>\n",
       "      <td>1.0</td>\n",
       "      <td>0.0</td>\n",
       "      <td>1.0</td>\n",
       "      <td>7</td>\n",
       "      <td>56021.0</td>\n",
       "    </tr>\n",
       "    <tr>\n",
       "      <th>1</th>\n",
       "      <td>20160728</td>\n",
       "      <td>903.0</td>\n",
       "      <td>126</td>\n",
       "      <td>575.0</td>\n",
       "      <td>43436</td>\n",
       "      <td>132.38</td>\n",
       "      <td>2.0</td>\n",
       "      <td>2.0</td>\n",
       "      <td>1</td>\n",
       "      <td>2.0</td>\n",
       "      <td>22.0</td>\n",
       "      <td>1.0</td>\n",
       "      <td>2004.0</td>\n",
       "      <td>4</td>\n",
       "      <td>6</td>\n",
       "      <td>0.667</td>\n",
       "      <td>1.0</td>\n",
       "      <td>1.0</td>\n",
       "      <td>0.0</td>\n",
       "      <td>7</td>\n",
       "      <td>71539.0</td>\n",
       "    </tr>\n",
       "    <tr>\n",
       "      <th>2</th>\n",
       "      <td>20161211</td>\n",
       "      <td>1271.0</td>\n",
       "      <td>48</td>\n",
       "      <td>1030.0</td>\n",
       "      <td>52021</td>\n",
       "      <td>198.00</td>\n",
       "      <td>3.0</td>\n",
       "      <td>2.0</td>\n",
       "      <td>1</td>\n",
       "      <td>3.0</td>\n",
       "      <td>4.0</td>\n",
       "      <td>4.0</td>\n",
       "      <td>2005.0</td>\n",
       "      <td>3</td>\n",
       "      <td>6</td>\n",
       "      <td>0.500</td>\n",
       "      <td>1.0</td>\n",
       "      <td>0.0</td>\n",
       "      <td>0.0</td>\n",
       "      <td>7</td>\n",
       "      <td>48160.0</td>\n",
       "    </tr>\n",
       "    <tr>\n",
       "      <th>3</th>\n",
       "      <td>20160930</td>\n",
       "      <td>965.0</td>\n",
       "      <td>138</td>\n",
       "      <td>297.5</td>\n",
       "      <td>22202</td>\n",
       "      <td>134.00</td>\n",
       "      <td>3.0</td>\n",
       "      <td>1.0</td>\n",
       "      <td>1</td>\n",
       "      <td>1.0</td>\n",
       "      <td>21.0</td>\n",
       "      <td>1.0</td>\n",
       "      <td>2008.0</td>\n",
       "      <td>1</td>\n",
       "      <td>6</td>\n",
       "      <td>0.273</td>\n",
       "      <td>1.0</td>\n",
       "      <td>0.0</td>\n",
       "      <td>0.0</td>\n",
       "      <td>6</td>\n",
       "      <td>51238.0</td>\n",
       "    </tr>\n",
       "    <tr>\n",
       "      <th>4</th>\n",
       "      <td>20160828</td>\n",
       "      <td>927.0</td>\n",
       "      <td>286</td>\n",
       "      <td>392.0</td>\n",
       "      <td>48396</td>\n",
       "      <td>81.00</td>\n",
       "      <td>2.0</td>\n",
       "      <td>1.0</td>\n",
       "      <td>1</td>\n",
       "      <td>1.0</td>\n",
       "      <td>6.0</td>\n",
       "      <td>4.0</td>\n",
       "      <td>1960.0</td>\n",
       "      <td>2</td>\n",
       "      <td>2</td>\n",
       "      <td>0.333</td>\n",
       "      <td>0.0</td>\n",
       "      <td>1.0</td>\n",
       "      <td>1.0</td>\n",
       "      <td>1</td>\n",
       "      <td>62588.0</td>\n",
       "    </tr>\n",
       "    <tr>\n",
       "      <th>5</th>\n",
       "      <td>20160722</td>\n",
       "      <td>861.0</td>\n",
       "      <td>57</td>\n",
       "      <td>275.6</td>\n",
       "      <td>52000</td>\n",
       "      <td>53.00</td>\n",
       "      <td>1.0</td>\n",
       "      <td>0.0</td>\n",
       "      <td>1</td>\n",
       "      <td>1.0</td>\n",
       "      <td>8.0</td>\n",
       "      <td>4.0</td>\n",
       "      <td>2005.0</td>\n",
       "      <td>3</td>\n",
       "      <td>6</td>\n",
       "      <td>0.333</td>\n",
       "      <td>1.0</td>\n",
       "      <td>1.0</td>\n",
       "      <td>0.0</td>\n",
       "      <td>7</td>\n",
       "      <td>67738.0</td>\n",
       "    </tr>\n",
       "    <tr>\n",
       "      <th>6</th>\n",
       "      <td>20160714</td>\n",
       "      <td>851.0</td>\n",
       "      <td>167</td>\n",
       "      <td>275.0</td>\n",
       "      <td>37672</td>\n",
       "      <td>73.00</td>\n",
       "      <td>2.0</td>\n",
       "      <td>1.0</td>\n",
       "      <td>1</td>\n",
       "      <td>1.0</td>\n",
       "      <td>6.0</td>\n",
       "      <td>4.0</td>\n",
       "      <td>1997.0</td>\n",
       "      <td>4</td>\n",
       "      <td>2</td>\n",
       "      <td>0.500</td>\n",
       "      <td>0.0</td>\n",
       "      <td>0.0</td>\n",
       "      <td>0.0</td>\n",
       "      <td>7</td>\n",
       "      <td>50112.0</td>\n",
       "    </tr>\n",
       "    <tr>\n",
       "      <th>7</th>\n",
       "      <td>20160907</td>\n",
       "      <td>904.0</td>\n",
       "      <td>138</td>\n",
       "      <td>800.0</td>\n",
       "      <td>49521</td>\n",
       "      <td>161.55</td>\n",
       "      <td>3.0</td>\n",
       "      <td>2.0</td>\n",
       "      <td>1</td>\n",
       "      <td>2.0</td>\n",
       "      <td>22.0</td>\n",
       "      <td>1.0</td>\n",
       "      <td>2004.0</td>\n",
       "      <td>4</td>\n",
       "      <td>6</td>\n",
       "      <td>0.667</td>\n",
       "      <td>1.0</td>\n",
       "      <td>1.0</td>\n",
       "      <td>0.0</td>\n",
       "      <td>7</td>\n",
       "      <td>71539.0</td>\n",
       "    </tr>\n",
       "    <tr>\n",
       "      <th>8</th>\n",
       "      <td>20160904</td>\n",
       "      <td>873.0</td>\n",
       "      <td>218</td>\n",
       "      <td>134.0</td>\n",
       "      <td>27917</td>\n",
       "      <td>48.00</td>\n",
       "      <td>1.0</td>\n",
       "      <td>0.0</td>\n",
       "      <td>1</td>\n",
       "      <td>1.0</td>\n",
       "      <td>10.0</td>\n",
       "      <td>3.0</td>\n",
       "      <td>2009.0</td>\n",
       "      <td>1</td>\n",
       "      <td>2</td>\n",
       "      <td>0.333</td>\n",
       "      <td>0.0</td>\n",
       "      <td>0.0</td>\n",
       "      <td>0.0</td>\n",
       "      <td>13</td>\n",
       "      <td>44235.0</td>\n",
       "    </tr>\n",
       "    <tr>\n",
       "      <th>9</th>\n",
       "      <td>20160905</td>\n",
       "      <td>865.0</td>\n",
       "      <td>134</td>\n",
       "      <td>380.0</td>\n",
       "      <td>55883</td>\n",
       "      <td>68.00</td>\n",
       "      <td>1.0</td>\n",
       "      <td>0.0</td>\n",
       "      <td>0</td>\n",
       "      <td>0.0</td>\n",
       "      <td>23.0</td>\n",
       "      <td>1.0</td>\n",
       "      <td>2009.0</td>\n",
       "      <td>4</td>\n",
       "      <td>6</td>\n",
       "      <td>0.308</td>\n",
       "      <td>1.0</td>\n",
       "      <td>1.0</td>\n",
       "      <td>1.0</td>\n",
       "      <td>1</td>\n",
       "      <td>78590.0</td>\n",
       "    </tr>\n",
       "  </tbody>\n",
       "</table>\n",
       "</div>"
      ],
      "text/plain": [
       "   tradeTime     DOM  followers  totalPrice  price  square  livingRoom  \\\n",
       "0   20160809  1464.0        106       415.0  31680  131.00         2.0   \n",
       "1   20160728   903.0        126       575.0  43436  132.38         2.0   \n",
       "2   20161211  1271.0         48      1030.0  52021  198.00         3.0   \n",
       "3   20160930   965.0        138       297.5  22202  134.00         3.0   \n",
       "4   20160828   927.0        286       392.0  48396   81.00         2.0   \n",
       "5   20160722   861.0         57       275.6  52000   53.00         1.0   \n",
       "6   20160714   851.0        167       275.0  37672   73.00         2.0   \n",
       "7   20160907   904.0        138       800.0  49521  161.55         3.0   \n",
       "8   20160904   873.0        218       134.0  27917   48.00         1.0   \n",
       "9   20160905   865.0        134       380.0  55883   68.00         1.0   \n",
       "\n",
       "   drawingRoom  kitchen  bathRoom  floor  buildingType  constructionTime  \\\n",
       "0          1.0        1       1.0   26.0           1.0            2005.0   \n",
       "1          2.0        1       2.0   22.0           1.0            2004.0   \n",
       "2          2.0        1       3.0    4.0           4.0            2005.0   \n",
       "3          1.0        1       1.0   21.0           1.0            2008.0   \n",
       "4          1.0        1       1.0    6.0           4.0            1960.0   \n",
       "5          0.0        1       1.0    8.0           4.0            2005.0   \n",
       "6          1.0        1       1.0    6.0           4.0            1997.0   \n",
       "7          2.0        1       2.0   22.0           1.0            2004.0   \n",
       "8          0.0        1       1.0   10.0           3.0            2009.0   \n",
       "9          0.0        0       0.0   23.0           1.0            2009.0   \n",
       "\n",
       "   renovationCondition  buildingStructure  ladderRatio  elevator  \\\n",
       "0                    3                  6        0.217       1.0   \n",
       "1                    4                  6        0.667       1.0   \n",
       "2                    3                  6        0.500       1.0   \n",
       "3                    1                  6        0.273       1.0   \n",
       "4                    2                  2        0.333       0.0   \n",
       "5                    3                  6        0.333       1.0   \n",
       "6                    4                  2        0.500       0.0   \n",
       "7                    4                  6        0.667       1.0   \n",
       "8                    1                  2        0.333       0.0   \n",
       "9                    4                  6        0.308       1.0   \n",
       "\n",
       "   fiveYearsProperty  subway  district  communityAverage  \n",
       "0                0.0     1.0         7           56021.0  \n",
       "1                1.0     0.0         7           71539.0  \n",
       "2                0.0     0.0         7           48160.0  \n",
       "3                0.0     0.0         6           51238.0  \n",
       "4                1.0     1.0         1           62588.0  \n",
       "5                1.0     0.0         7           67738.0  \n",
       "6                0.0     0.0         7           50112.0  \n",
       "7                1.0     0.0         7           71539.0  \n",
       "8                0.0     0.0        13           44235.0  \n",
       "9                1.0     1.0         1           78590.0  "
      ]
     },
     "execution_count": 6,
     "metadata": {},
     "output_type": "execute_result"
    }
   ],
   "source": [
    "#check if all data are good to use\n",
    "df.head(10)"
   ]
  },
  {
   "cell_type": "markdown",
   "id": "912ffc80",
   "metadata": {},
   "source": [
    "# EDA"
   ]
  },
  {
   "cell_type": "code",
   "execution_count": 7,
   "id": "f626a3ff",
   "metadata": {
    "scrolled": true
   },
   "outputs": [
    {
     "name": "stdout",
     "output_type": "stream",
     "text": [
      "number of rows: 316798 number of columns: 21\n"
     ]
    }
   ],
   "source": [
    "print('number of rows:',len(df),'number of columns:',len(df.columns))"
   ]
  },
  {
   "cell_type": "code",
   "execution_count": 8,
   "id": "3465c04d",
   "metadata": {},
   "outputs": [
    {
     "data": {
      "text/plain": [
       "tradeTime                int32\n",
       "DOM                    float64\n",
       "followers                int64\n",
       "totalPrice             float64\n",
       "price                    int64\n",
       "square                 float64\n",
       "livingRoom             float64\n",
       "drawingRoom            float64\n",
       "kitchen                  int64\n",
       "bathRoom               float64\n",
       "floor                  float64\n",
       "buildingType           float64\n",
       "constructionTime       float64\n",
       "renovationCondition      int64\n",
       "buildingStructure        int64\n",
       "ladderRatio            float64\n",
       "elevator               float64\n",
       "fiveYearsProperty      float64\n",
       "subway                 float64\n",
       "district                 int64\n",
       "communityAverage       float64\n",
       "dtype: object"
      ]
     },
     "execution_count": 8,
     "metadata": {},
     "output_type": "execute_result"
    }
   ],
   "source": [
    "df.dtypes"
   ]
  },
  {
   "cell_type": "code",
   "execution_count": 9,
   "id": "a0de75da",
   "metadata": {
    "scrolled": true
   },
   "outputs": [
    {
     "data": {
      "text/html": [
       "<div>\n",
       "<style scoped>\n",
       "    .dataframe tbody tr th:only-of-type {\n",
       "        vertical-align: middle;\n",
       "    }\n",
       "\n",
       "    .dataframe tbody tr th {\n",
       "        vertical-align: top;\n",
       "    }\n",
       "\n",
       "    .dataframe thead th {\n",
       "        text-align: right;\n",
       "    }\n",
       "</style>\n",
       "<table border=\"1\" class=\"dataframe\">\n",
       "  <thead>\n",
       "    <tr style=\"text-align: right;\">\n",
       "      <th></th>\n",
       "      <th>tradeTime</th>\n",
       "      <th>DOM</th>\n",
       "      <th>followers</th>\n",
       "      <th>totalPrice</th>\n",
       "      <th>price</th>\n",
       "      <th>square</th>\n",
       "      <th>livingRoom</th>\n",
       "      <th>drawingRoom</th>\n",
       "      <th>kitchen</th>\n",
       "      <th>bathRoom</th>\n",
       "      <th>floor</th>\n",
       "      <th>buildingType</th>\n",
       "      <th>constructionTime</th>\n",
       "      <th>renovationCondition</th>\n",
       "      <th>buildingStructure</th>\n",
       "      <th>ladderRatio</th>\n",
       "      <th>elevator</th>\n",
       "      <th>fiveYearsProperty</th>\n",
       "      <th>subway</th>\n",
       "      <th>district</th>\n",
       "      <th>communityAverage</th>\n",
       "    </tr>\n",
       "  </thead>\n",
       "  <tbody>\n",
       "    <tr>\n",
       "      <th>count</th>\n",
       "      <td>3.167980e+05</td>\n",
       "      <td>159535.000000</td>\n",
       "      <td>316798.000000</td>\n",
       "      <td>316798.000000</td>\n",
       "      <td>316798.000000</td>\n",
       "      <td>316798.00000</td>\n",
       "      <td>316798.000000</td>\n",
       "      <td>316798.000000</td>\n",
       "      <td>316798.000000</td>\n",
       "      <td>316798.000000</td>\n",
       "      <td>316798.00000</td>\n",
       "      <td>316798.000000</td>\n",
       "      <td>297990.000000</td>\n",
       "      <td>316798.000000</td>\n",
       "      <td>316798.000000</td>\n",
       "      <td>3.167980e+05</td>\n",
       "      <td>316798.000000</td>\n",
       "      <td>316798.000000</td>\n",
       "      <td>316798.000000</td>\n",
       "      <td>316798.000000</td>\n",
       "      <td>316448.000000</td>\n",
       "    </tr>\n",
       "    <tr>\n",
       "      <th>mean</th>\n",
       "      <td>2.014848e+07</td>\n",
       "      <td>28.727590</td>\n",
       "      <td>16.705361</td>\n",
       "      <td>347.800230</td>\n",
       "      <td>43567.503422</td>\n",
       "      <td>82.81751</td>\n",
       "      <td>2.004549</td>\n",
       "      <td>1.169446</td>\n",
       "      <td>0.994460</td>\n",
       "      <td>1.183609</td>\n",
       "      <td>13.34063</td>\n",
       "      <td>3.010057</td>\n",
       "      <td>1999.191121</td>\n",
       "      <td>2.605995</td>\n",
       "      <td>4.451704</td>\n",
       "      <td>6.357148e+01</td>\n",
       "      <td>0.579578</td>\n",
       "      <td>0.646639</td>\n",
       "      <td>0.602744</td>\n",
       "      <td>6.767391</td>\n",
       "      <td>63784.101713</td>\n",
       "    </tr>\n",
       "    <tr>\n",
       "      <th>std</th>\n",
       "      <td>1.651528e+04</td>\n",
       "      <td>50.014776</td>\n",
       "      <td>34.105067</td>\n",
       "      <td>224.256035</td>\n",
       "      <td>21686.633884</td>\n",
       "      <td>35.95013</td>\n",
       "      <td>0.767889</td>\n",
       "      <td>0.518773</td>\n",
       "      <td>0.104133</td>\n",
       "      <td>0.424924</td>\n",
       "      <td>7.81986</td>\n",
       "      <td>1.269642</td>\n",
       "      <td>8.774970</td>\n",
       "      <td>1.311764</td>\n",
       "      <td>1.901567</td>\n",
       "      <td>2.514960e+04</td>\n",
       "      <td>0.493628</td>\n",
       "      <td>0.478014</td>\n",
       "      <td>0.489331</td>\n",
       "      <td>2.812653</td>\n",
       "      <td>22308.136499</td>\n",
       "    </tr>\n",
       "    <tr>\n",
       "      <th>min</th>\n",
       "      <td>2.002060e+07</td>\n",
       "      <td>1.000000</td>\n",
       "      <td>0.000000</td>\n",
       "      <td>0.100000</td>\n",
       "      <td>1.000000</td>\n",
       "      <td>7.37000</td>\n",
       "      <td>0.000000</td>\n",
       "      <td>0.000000</td>\n",
       "      <td>0.000000</td>\n",
       "      <td>0.000000</td>\n",
       "      <td>1.00000</td>\n",
       "      <td>1.000000</td>\n",
       "      <td>1914.000000</td>\n",
       "      <td>1.000000</td>\n",
       "      <td>1.000000</td>\n",
       "      <td>1.400000e-02</td>\n",
       "      <td>0.000000</td>\n",
       "      <td>0.000000</td>\n",
       "      <td>0.000000</td>\n",
       "      <td>1.000000</td>\n",
       "      <td>10847.000000</td>\n",
       "    </tr>\n",
       "    <tr>\n",
       "      <th>25%</th>\n",
       "      <td>2.013113e+07</td>\n",
       "      <td>1.000000</td>\n",
       "      <td>0.000000</td>\n",
       "      <td>205.000000</td>\n",
       "      <td>28090.250000</td>\n",
       "      <td>57.90000</td>\n",
       "      <td>1.000000</td>\n",
       "      <td>1.000000</td>\n",
       "      <td>1.000000</td>\n",
       "      <td>1.000000</td>\n",
       "      <td>6.00000</td>\n",
       "      <td>1.000000</td>\n",
       "      <td>1994.000000</td>\n",
       "      <td>1.000000</td>\n",
       "      <td>2.000000</td>\n",
       "      <td>2.500000e-01</td>\n",
       "      <td>0.000000</td>\n",
       "      <td>0.000000</td>\n",
       "      <td>0.000000</td>\n",
       "      <td>6.000000</td>\n",
       "      <td>46410.000000</td>\n",
       "    </tr>\n",
       "    <tr>\n",
       "      <th>50%</th>\n",
       "      <td>2.015091e+07</td>\n",
       "      <td>6.000000</td>\n",
       "      <td>5.000000</td>\n",
       "      <td>293.600000</td>\n",
       "      <td>38784.000000</td>\n",
       "      <td>74.15000</td>\n",
       "      <td>2.000000</td>\n",
       "      <td>1.000000</td>\n",
       "      <td>1.000000</td>\n",
       "      <td>1.000000</td>\n",
       "      <td>11.00000</td>\n",
       "      <td>4.000000</td>\n",
       "      <td>2001.000000</td>\n",
       "      <td>3.000000</td>\n",
       "      <td>6.000000</td>\n",
       "      <td>3.330000e-01</td>\n",
       "      <td>1.000000</td>\n",
       "      <td>1.000000</td>\n",
       "      <td>1.000000</td>\n",
       "      <td>7.000000</td>\n",
       "      <td>59025.000000</td>\n",
       "    </tr>\n",
       "    <tr>\n",
       "      <th>75%</th>\n",
       "      <td>2.016073e+07</td>\n",
       "      <td>37.000000</td>\n",
       "      <td>18.000000</td>\n",
       "      <td>425.000000</td>\n",
       "      <td>53870.000000</td>\n",
       "      <td>98.48000</td>\n",
       "      <td>2.000000</td>\n",
       "      <td>1.000000</td>\n",
       "      <td>1.000000</td>\n",
       "      <td>1.000000</td>\n",
       "      <td>20.00000</td>\n",
       "      <td>4.000000</td>\n",
       "      <td>2006.000000</td>\n",
       "      <td>4.000000</td>\n",
       "      <td>6.000000</td>\n",
       "      <td>5.000000e-01</td>\n",
       "      <td>1.000000</td>\n",
       "      <td>1.000000</td>\n",
       "      <td>1.000000</td>\n",
       "      <td>8.000000</td>\n",
       "      <td>76001.000000</td>\n",
       "    </tr>\n",
       "    <tr>\n",
       "      <th>max</th>\n",
       "      <td>2.018013e+07</td>\n",
       "      <td>1677.000000</td>\n",
       "      <td>1143.000000</td>\n",
       "      <td>4900.000000</td>\n",
       "      <td>156250.000000</td>\n",
       "      <td>922.70000</td>\n",
       "      <td>9.000000</td>\n",
       "      <td>5.000000</td>\n",
       "      <td>3.000000</td>\n",
       "      <td>7.000000</td>\n",
       "      <td>63.00000</td>\n",
       "      <td>4.000000</td>\n",
       "      <td>2016.000000</td>\n",
       "      <td>4.000000</td>\n",
       "      <td>6.000000</td>\n",
       "      <td>1.000940e+07</td>\n",
       "      <td>1.000000</td>\n",
       "      <td>1.000000</td>\n",
       "      <td>1.000000</td>\n",
       "      <td>13.000000</td>\n",
       "      <td>183109.000000</td>\n",
       "    </tr>\n",
       "  </tbody>\n",
       "</table>\n",
       "</div>"
      ],
      "text/plain": [
       "          tradeTime            DOM      followers     totalPrice  \\\n",
       "count  3.167980e+05  159535.000000  316798.000000  316798.000000   \n",
       "mean   2.014848e+07      28.727590      16.705361     347.800230   \n",
       "std    1.651528e+04      50.014776      34.105067     224.256035   \n",
       "min    2.002060e+07       1.000000       0.000000       0.100000   \n",
       "25%    2.013113e+07       1.000000       0.000000     205.000000   \n",
       "50%    2.015091e+07       6.000000       5.000000     293.600000   \n",
       "75%    2.016073e+07      37.000000      18.000000     425.000000   \n",
       "max    2.018013e+07    1677.000000    1143.000000    4900.000000   \n",
       "\n",
       "               price        square     livingRoom    drawingRoom  \\\n",
       "count  316798.000000  316798.00000  316798.000000  316798.000000   \n",
       "mean    43567.503422      82.81751       2.004549       1.169446   \n",
       "std     21686.633884      35.95013       0.767889       0.518773   \n",
       "min         1.000000       7.37000       0.000000       0.000000   \n",
       "25%     28090.250000      57.90000       1.000000       1.000000   \n",
       "50%     38784.000000      74.15000       2.000000       1.000000   \n",
       "75%     53870.000000      98.48000       2.000000       1.000000   \n",
       "max    156250.000000     922.70000       9.000000       5.000000   \n",
       "\n",
       "             kitchen       bathRoom         floor   buildingType  \\\n",
       "count  316798.000000  316798.000000  316798.00000  316798.000000   \n",
       "mean        0.994460       1.183609      13.34063       3.010057   \n",
       "std         0.104133       0.424924       7.81986       1.269642   \n",
       "min         0.000000       0.000000       1.00000       1.000000   \n",
       "25%         1.000000       1.000000       6.00000       1.000000   \n",
       "50%         1.000000       1.000000      11.00000       4.000000   \n",
       "75%         1.000000       1.000000      20.00000       4.000000   \n",
       "max         3.000000       7.000000      63.00000       4.000000   \n",
       "\n",
       "       constructionTime  renovationCondition  buildingStructure   ladderRatio  \\\n",
       "count     297990.000000        316798.000000      316798.000000  3.167980e+05   \n",
       "mean        1999.191121             2.605995           4.451704  6.357148e+01   \n",
       "std            8.774970             1.311764           1.901567  2.514960e+04   \n",
       "min         1914.000000             1.000000           1.000000  1.400000e-02   \n",
       "25%         1994.000000             1.000000           2.000000  2.500000e-01   \n",
       "50%         2001.000000             3.000000           6.000000  3.330000e-01   \n",
       "75%         2006.000000             4.000000           6.000000  5.000000e-01   \n",
       "max         2016.000000             4.000000           6.000000  1.000940e+07   \n",
       "\n",
       "            elevator  fiveYearsProperty         subway       district  \\\n",
       "count  316798.000000      316798.000000  316798.000000  316798.000000   \n",
       "mean        0.579578           0.646639       0.602744       6.767391   \n",
       "std         0.493628           0.478014       0.489331       2.812653   \n",
       "min         0.000000           0.000000       0.000000       1.000000   \n",
       "25%         0.000000           0.000000       0.000000       6.000000   \n",
       "50%         1.000000           1.000000       1.000000       7.000000   \n",
       "75%         1.000000           1.000000       1.000000       8.000000   \n",
       "max         1.000000           1.000000       1.000000      13.000000   \n",
       "\n",
       "       communityAverage  \n",
       "count     316448.000000  \n",
       "mean       63784.101713  \n",
       "std        22308.136499  \n",
       "min        10847.000000  \n",
       "25%        46410.000000  \n",
       "50%        59025.000000  \n",
       "75%        76001.000000  \n",
       "max       183109.000000  "
      ]
     },
     "execution_count": 9,
     "metadata": {},
     "output_type": "execute_result"
    }
   ],
   "source": [
    "df.describe()"
   ]
  },
  {
   "cell_type": "code",
   "execution_count": 18,
   "id": "8ede9b65",
   "metadata": {},
   "outputs": [
    {
     "data": {
      "text/plain": [
       "{1.0,\n",
       " 2.0,\n",
       " 3.0,\n",
       " 4.0,\n",
       " 5.0,\n",
       " 6.0,\n",
       " 7.0,\n",
       " 8.0,\n",
       " 9.0,\n",
       " 10.0,\n",
       " 11.0,\n",
       " 12.0,\n",
       " 13.0,\n",
       " 14.0,\n",
       " 15.0,\n",
       " 16.0,\n",
       " 17.0,\n",
       " 18.0,\n",
       " 19.0,\n",
       " 20.0,\n",
       " 21.0,\n",
       " 22.0,\n",
       " 23.0,\n",
       " 24.0,\n",
       " 25.0,\n",
       " 26.0,\n",
       " 27.0,\n",
       " 28.0,\n",
       " 29.0,\n",
       " 30.0,\n",
       " 31.0,\n",
       " 32.0,\n",
       " 33.0,\n",
       " 34.0,\n",
       " 35.0,\n",
       " 36.0,\n",
       " 37.0,\n",
       " 42.0,\n",
       " 57.0,\n",
       " 63.0}"
      ]
     },
     "execution_count": 18,
     "metadata": {},
     "output_type": "execute_result"
    }
   ],
   "source": [
    "set(list(df['floor']))"
   ]
  },
  {
   "cell_type": "code",
   "execution_count": 10,
   "id": "f8934dd3",
   "metadata": {},
   "outputs": [
    {
     "data": {
      "image/png": "[encoded data removed]",
      "text/plain": [
       "<Figure size 432x288 with 1 Axes>"
      ]
     },
     "metadata": {
      "needs_background": "light"
     },
     "output_type": "display_data"
    }
   ],
   "source": [
    "#single column\n",
    "\n",
    "import pandas as pd\n",
    "import numpy as np\n",
    "import matplotlib\n",
    "from matplotlib import pylab as plt\n",
    "\n",
    "#target variable. cts. Histogram.\n",
    "df['totalPrice'].plot.hist(bins = df['totalPrice'].nunique())   # bins = int(np.sqrt(df.shape[0])) \n",
    "plt.xlabel('totalPrice')\n",
    "plt.ylabel('count')\n",
    "plt.show()"
   ]
  },
  {
   "cell_type": "code",
   "execution_count": null,
   "id": "7f232c17",
   "metadata": {
    "scrolled": true
   },
   "outputs": [],
   "source": [
    "#To make the plot more clear, I graph portion (0,1500). This only shows a trend. Note that part of data are dropped\n",
    "#some outliers dont show even in this plot. There should be some count >3000 in this range\n",
    "df['totalPrice'].plot.hist(bins = df['totalPrice'].nunique())   # bins = int(np.sqrt(df.shape[0])) \n",
    "plt.xlabel('totalPrice')\n",
    "plt.ylabel('count')\n",
    "plt.axis([0,1500,0,2000])\n",
    "plt.title(\"Histogram of totalPrice\")\n",
    "plt.show()"
   ]
  },
  {
   "cell_type": "code",
   "execution_count": null,
   "id": "cf2504c3",
   "metadata": {},
   "outputs": [],
   "source": [
    "#continuous data. Histogram.\n",
    "#features: DOM, followers, price, square, ladderRatio,communityAverage\n",
    "\n",
    "list_cts = ('DOM', 'followers', 'price', 'ladderRatio','square','communityAverage')\n",
    "list_cts_plot = ('DOM', 'followers', 'price','square','communityAverage')\n",
    "for i in list_cts_plot:\n",
    "    df[i].plot.hist(bins = int(np.sqrt(df.shape[0])))   # bins = int(np.sqrt(df.shape[0])) \n",
    "    plt.xlabel(i)\n",
    "    plt.ylabel('count')\n",
    "    plt.show()"
   ]
  },
  {
   "cell_type": "code",
   "execution_count": null,
   "id": "5ca1eb85",
   "metadata": {},
   "outputs": [],
   "source": [
    "#the previous argument is not fit for ladderRatio\n",
    "#df['ladderRatio'] = df['ladderRatio']*10000  #this doesn't work\n",
    "df['ladderRatio'].plot.hist()   # bins = int(np.sqrt(df.shape[0])) \n",
    "plt.xlabel('ladderRatio')\n",
    "plt.ylabel('count')\n",
    "plt.show()"
   ]
  },
  {
   "cell_type": "code",
   "execution_count": null,
   "id": "fe474b64",
   "metadata": {},
   "outputs": [],
   "source": [
    "#focus on DOM ***only part of data!\n",
    "df['DOM'].plot.hist(bins = int(np.sqrt(df.shape[0])))   # bins = int(np.sqrt(df.shape[0])) \n",
    "plt.xlabel('DOM')\n",
    "plt.ylabel('count')\n",
    "plt.axis([0,350,0,9000])\n",
    "plt.show()"
   ]
  },
  {
   "cell_type": "code",
   "execution_count": null,
   "id": "15b86b41",
   "metadata": {},
   "outputs": [],
   "source": [
    "#focus on followers ***only part of data!\n",
    "df['followers'].plot.hist(bins = int(np.sqrt(df.shape[0])))   # bins = int(np.sqrt(df.shape[0])) \n",
    "plt.xlabel('followers')\n",
    "plt.ylabel('count')\n",
    "plt.axis([0,100,0,80000]) # >>80000\n",
    "plt.show()"
   ]
  },
  {
   "cell_type": "code",
   "execution_count": null,
   "id": "275fe3e2",
   "metadata": {},
   "outputs": [],
   "source": [
    "#focus on square ***only part of data!\n",
    "df['square'].plot.hist(bins = int(np.sqrt(df.shape[0])))   # bins = int(np.sqrt(df.shape[0])) \n",
    "plt.xlabel('square')\n",
    "plt.ylabel('count')\n",
    "plt.axis([0,300,0,12000])\n",
    "plt.show()"
   ]
  },
  {
   "cell_type": "code",
   "execution_count": 17,
   "id": "487709dc",
   "metadata": {},
   "outputs": [
    {
     "data": {
      "image/png": "[encoded data removed]",
      "text/plain": [
       "<Figure size 432x288 with 1 Axes>"
      ]
     },
     "metadata": {
      "needs_background": "light"
     },
     "output_type": "display_data"
    },
    {
     "data": {
      "image/png": "[encoded data removed]",
      "text/plain": [
       "<Figure size 432x288 with 1 Axes>"
      ]
     },
     "metadata": {
      "needs_background": "light"
     },
     "output_type": "display_data"
    },
    {
     "data": {
      "image/png": "[encoded data removed]",
      "text/plain": [
       "<Figure size 432x288 with 1 Axes>"
      ]
     },
     "metadata": {
      "needs_background": "light"
     },
     "output_type": "display_data"
    },
    {
     "data": {
      "image/png": "[encoded data removed]",
      "text/plain": [
       "<Figure size 432x288 with 1 Axes>"
      ]
     },
     "metadata": {
      "needs_background": "light"
     },
     "output_type": "display_data"
    },
    {
     "data": {
      "image/png": "[encoded data removed]",
      "text/plain": [
       "<Figure size 432x288 with 1 Axes>"
      ]
     },
     "metadata": {
      "needs_background": "light"
     },
     "output_type": "display_data"
    },
    {
     "data": {
      "image/png": "[encoded data removed]",
      "text/plain": [
       "<Figure size 432x288 with 1 Axes>"
      ]
     },
     "metadata": {
      "needs_background": "light"
     },
     "output_type": "display_data"
    },
    {
     "data": {
      "image/png": "[encoded data removed]",
      "text/plain": [
       "<Figure size 432x288 with 1 Axes>"
      ]
     },
     "metadata": {
      "needs_background": "light"
     },
     "output_type": "display_data"
    },
    {
     "data": {
      "image/png": "[encoded data removed]",
      "text/plain": [
       "<Figure size 432x288 with 1 Axes>"
      ]
     },
     "metadata": {
      "needs_background": "light"
     },
     "output_type": "display_data"
    },
    {
     "data": {
      "image/png": "[encoded data removed]",
      "text/plain": [
       "<Figure size 432x288 with 1 Axes>"
      ]
     },
     "metadata": {
      "needs_background": "light"
     },
     "output_type": "display_data"
    },
    {
     "data": {
      "image/png": "[encoded data removed]",
      "text/plain": [
       "<Figure size 432x288 with 1 Axes>"
      ]
     },
     "metadata": {
      "needs_background": "light"
     },
     "output_type": "display_data"
    },
    {
     "data": {
      "image/png": "[encoded data removed]",
      "text/plain": [
       "<Figure size 432x288 with 1 Axes>"
      ]
     },
     "metadata": {
      "needs_background": "light"
     },
     "output_type": "display_data"
    },
    {
     "data": {
      "image/png": "[encoded data removed]",
      "text/plain": [
       "<Figure size 432x288 with 1 Axes>"
      ]
     },
     "metadata": {
      "needs_background": "light"
     },
     "output_type": "display_data"
    },
    {
     "data": {
      "image/png": "[encoded data removed]",
      "text/plain": [
       "<Figure size 432x288 with 1 Axes>"
      ]
     },
     "metadata": {
      "needs_background": "light"
     },
     "output_type": "display_data"
    },
    {
     "data": {
      "image/png": "[encoded data removed]",
      "text/plain": [
       "<Figure size 432x288 with 1 Axes>"
      ]
     },
     "metadata": {
      "needs_background": "light"
     },
     "output_type": "display_data"
    }
   ],
   "source": [
    "#categorical feature. Bar. ylable = fraction\n",
    "#features: tradeTime, livingRoom,drawingRoom,kitchen,bathRoom,floor,buildingType,constructionTime, \n",
    "          #renovationCondition,buildingStructure,elevator,fiveYearsProperty,subway,district\n",
    "list_cate = ('tradeTime','livingRoom','drawingRoom','kitchen','bathRoom','floor','buildingType','constructionTime','renovationCondition','buildingStructure','elevator','fiveYearsProperty','subway','district')\n",
    "for i in list_cate:\n",
    "    pd.value_counts(df[i],normalize=True).plot.bar()\n",
    "    plt.ylabel('fraction')\n",
    "    plt.xlabel(i)\n",
    "    plt.show()"
   ]
  },
  {
   "cell_type": "code",
   "execution_count": null,
   "id": "bff454ca",
   "metadata": {},
   "outputs": [],
   "source": [
    "#two columns: feature and target variable\n",
    "\n",
    "#continuous and categorical columns, can use cviolin plot, box plot and category-specific histograms. \n",
    "#Box plot is better here\n",
    "for i in list_cate:\n",
    "    df[['totalPrice',i]].boxplot(by=i)\n",
    "    plt.ylabel('totalPrice')\n",
    "    plt.xlabel(i)\n",
    "    plt.show()"
   ]
  },
  {
   "cell_type": "code",
   "execution_count": null,
   "id": "ffe89f33",
   "metadata": {},
   "outputs": [],
   "source": [
    "#although tradeTime, floor, and constructionTime are categorical features technically, \n",
    "# I apply two columns cts and cts to them again to see the relationship between them and the target variable clearly. \n",
    "list_cate_to_cts = ['tradeTime', 'floor', 'constructionTime']\n",
    "for i in list_cate_to_cts:\n",
    "    df.plot.scatter(i,'totalPrice',alpha=0.5,s=10)\n",
    "    plt.show()"
   ]
  },
  {
   "cell_type": "code",
   "execution_count": null,
   "id": "7a18a46f",
   "metadata": {},
   "outputs": [],
   "source": [
    "# continuous and continuous columns, can use scatter and heatmap. Scatter is better here\n",
    "\n",
    "for i in list_cts:\n",
    "    df.plot.scatter(i,'totalPrice',alpha=0.5,s=10)\n",
    "    plt.show()"
   ]
  },
  {
   "cell_type": "code",
   "execution_count": null,
   "id": "8b68f926",
   "metadata": {},
   "outputs": [],
   "source": [
    "df.plot.scatter('square','totalPrice',alpha=0.5,s=10)\n",
    "plt.axis([0,750,0,7500])\n",
    "plt.title(\"Scatterplot grouped by square on totalprice\")\n",
    "plt.show()"
   ]
  },
  {
   "cell_type": "code",
   "execution_count": null,
   "id": "bb05c655",
   "metadata": {},
   "outputs": [],
   "source": [
    "pd.plotting.scatter_matrix(df[['DOM', 'followers', 'price', 'ladderRatio','square','communityAverage']], figsize=(9, 9), marker='o',hist_kwds={'bins': 50}, \n",
    "                           s=30, alpha=.1)\n",
    "plt.show()"
   ]
  },
  {
   "cell_type": "markdown",
   "id": "6ad2b990",
   "metadata": {},
   "source": [
    "# Data Processing"
   ]
  },
  {
   "cell_type": "code",
   "execution_count": 12,
   "id": "2f86d55e",
   "metadata": {},
   "outputs": [
    {
     "name": "stdout",
     "output_type": "stream",
     "text": [
      "done\n"
     ]
    }
   ],
   "source": [
    "#split into groups\n",
    "from sklearn.model_selection import train_test_split\n",
    "from decimal import *\n",
    "\n",
    "y = df['totalPrice'] \n",
    "X = df.loc[:, df.columns != 'totalPrice']\n",
    "\n",
    "def basic_split(X,y,train_size,val_size,test_size,random_state):\n",
    "    if Decimal(str(train_size)) + Decimal(str(val_size)) + Decimal(str(test_size)) == Decimal(str(1)):\n",
    "        if isinstance(random_state, int)==True:\n",
    "            # first split to separate out the training set\n",
    "            X_train, X_other, y_train, y_other = train_test_split(X,y,train_size = train_size,random_state = random_state)\n",
    "            # second split to separate out the validation and test sets\n",
    "            X_val, X_test, y_val, y_test = train_test_split(X_other,y_other,train_size = val_size/(1-train_size),random_state = random_state)\n",
    "        else:\n",
    "            raise ValueError(\"Error\")\n",
    "    else:\n",
    "        raise ValueError(\"Error\")\n",
    "\n",
    "    #print(X_train.size, y_train.size, X_val.size, y_val.size, X_test.size, y_test.size)\n",
    "    return X_train, y_train, X_val, y_val, X_test, y_test\n",
    "    #print(\"X_train.head:\",X_train.head(), \"y_train.head:\", y_train.head(), \"X_val.head:\",X_val.head(), \"y_val.head:\", y_val.head(), \"X_test.head:\", X_test.head(), \"y_test.head:\",y_test.head())\n",
    "\n",
    "random_state = 42\n",
    "train_size = 0.6\n",
    "val_size = 0.2\n",
    "test_size = 0.2\n",
    "X_train, y_train, X_val, y_val, X_test, y_test = basic_split(X,y,train_size,val_size,test_size,random_state)\n",
    "print(\"done\")"
   ]
  },
  {
   "cell_type": "code",
   "execution_count": 16,
   "id": "755e4475",
   "metadata": {},
   "outputs": [
    {
     "name": "stdout",
     "output_type": "stream",
     "text": [
      "[[-1.65389641         nan -0.49151999 ... -0.2704902  -0.76884569\n",
      "   0.31760799]\n",
      " [ 1.36399762 -0.41711486  1.28094174 ... -0.7410486  -0.66539092\n",
      "   0.43174951]\n",
      " [-1.0621596  -0.55878238 -0.49151999 ... -0.7410486  -0.3019315\n",
      "  -1.2803734 ]\n",
      " ...\n",
      " [-1.65425929         nan -0.49151999 ... -0.2704902  -0.14121113\n",
      "  -0.36724118]\n",
      " [ 0.70512795 -0.55878238 -0.22565073 ... -0.7410486  -0.15390194\n",
      "  -0.25309965]\n",
      " [-1.69707916         nan -0.49151999 ... -0.7410486  -0.19793861\n",
      "  -0.13895812]]\n",
      "[[-0.45657285         nan -0.34381485 ... -1.02451751 -0.29596727\n",
      "  -0.59552423]\n",
      " [-1.10395131         nan -0.49151999 ... -0.03237631  0.28256327\n",
      "   0.66003257]\n",
      " [ 0.75327007 -0.47782951  0.04021853 ...  3.51098511  1.23101074\n",
      "   0.88831562]\n",
      " ...\n",
      " [-1.0427455  -0.55878238 -0.34381485 ... -0.7410486   0.39458321\n",
      "          nan]\n",
      " [ 0.74026686  1.70789806  1.78313923 ... -1.211607    0.30830364\n",
      "  -0.13895812]\n",
      " [ 0.1183505          nan -0.49151999 ... -0.03237631 -0.53601641\n",
      "   0.43174951]]\n",
      "[[-0.48723624         nan -0.43243794 ... -1.211607    0.30830364\n",
      "  -0.13895812]\n",
      " [ 0.75248383  0.65551071  0.18792367 ...  0.10935814 -0.77467539\n",
      "   0.88831562]\n",
      " [ 1.32716527 -0.45759129 -0.49151999 ...  0.67629597 -0.74893502\n",
      "  -0.82380729]\n",
      " ...\n",
      " [ 1.32093582 -0.17425624  0.30608779 ... -1.02451751 -0.29125866\n",
      "  -1.50865645]\n",
      " [ 0.71547004         nan -0.25519176 ... -1.02451751 -0.77001163\n",
      "   0.31760799]\n",
      " [ 0.14103052 -0.55878238 -0.10748662 ... -0.2704902  -0.04833952\n",
      "   0.88831562]]\n"
     ]
    }
   ],
   "source": [
    "#transform\n",
    "\n",
    "#continuous data: tradeTime, DOM, followers, price, square, ladderRatio,communityAverage\n",
    "#Hard to say there is a scale for these feature, so I choose Standard.\n",
    "from sklearn.preprocessing import StandardScaler\n",
    "\n",
    "std_ftrs = ['tradeTime','DOM','followers','price','square','ladderRatio','communityAverage','constructionTime']\n",
    "scaler = StandardScaler()\n",
    "print(scaler.fit_transform(X_train[std_ftrs]))\n",
    "print(scaler.transform(X_val[std_ftrs]))\n",
    "print(scaler.transform(X_test[std_ftrs]))"
   ]
  },
  {
   "cell_type": "code",
   "execution_count": 15,
   "id": "ba71bc9e",
   "metadata": {
    "scrolled": true
   },
   "outputs": [
    {
     "name": "stdout",
     "output_type": "stream",
     "text": [
      "feature names: ['buildingType_1.0' 'buildingType_2.0' 'buildingType_3.0'\n",
      " 'buildingType_4.0' 'renovationCondition_1' 'renovationCondition_2'\n",
      " 'renovationCondition_3' 'renovationCondition_4' 'buildingStructure_1'\n",
      " 'buildingStructure_2' 'buildingStructure_3' 'buildingStructure_4'\n",
      " 'buildingStructure_5' 'buildingStructure_6' 'elevator_0.0' 'elevator_1.0'\n",
      " 'fiveYearsProperty_0.0' 'fiveYearsProperty_1.0' 'subway_0.0' 'subway_1.0'\n",
      " 'district_1' 'district_2' 'district_3' 'district_4' 'district_5'\n",
      " 'district_6' 'district_7' 'district_8' 'district_9' 'district_10'\n",
      " 'district_11' 'district_12' 'district_13']\n",
      "33\n",
      "transformed train features:\n",
      "[[0. 0. 0. ... 0. 0. 0.]\n",
      " [0. 0. 1. ... 0. 0. 0.]\n",
      " [1. 0. 0. ... 0. 0. 0.]\n",
      " ...\n",
      " [1. 0. 0. ... 0. 0. 0.]\n",
      " [1. 0. 0. ... 0. 0. 0.]\n",
      " [1. 0. 0. ... 0. 0. 0.]]\n",
      "transformed val features:\n",
      "[[1. 0. 0. ... 0. 0. 0.]\n",
      " [0. 0. 1. ... 0. 0. 0.]\n",
      " [0. 0. 0. ... 0. 0. 0.]\n",
      " ...\n",
      " [1. 0. 0. ... 0. 0. 0.]\n",
      " [1. 0. 0. ... 0. 0. 0.]\n",
      " [1. 0. 0. ... 0. 0. 0.]]\n",
      "transformed test features:\n",
      "[[1. 0. 0. ... 0. 0. 0.]\n",
      " [0. 0. 1. ... 0. 0. 0.]\n",
      " [0. 0. 0. ... 0. 0. 0.]\n",
      " ...\n",
      " [0. 0. 0. ... 0. 0. 0.]\n",
      " [0. 0. 1. ... 0. 0. 0.]\n",
      " [0. 0. 0. ... 0. 0. 0.]]\n"
     ]
    }
   ],
   "source": [
    "#categorical feature: \n",
    "#OneHot: buildingType, renovationCondition,buildingStructure,elevator,fiveYearsProperty,subway,district\n",
    "from sklearn.preprocessing import OneHotEncoder\n",
    "onehot_ftrs = ['buildingType','renovationCondition','buildingStructure','elevator','fiveYearsProperty','subway','district']\n",
    "# initialize the encoder\n",
    "enc = OneHotEncoder(sparse=False,handle_unknown='ignore') # by default, OneHotEncoder returns a sparse matrix. sparse=False returns a 2D array\n",
    "# fit the training data\n",
    "enc.fit(X_train[onehot_ftrs])\n",
    "print('feature names:',enc.get_feature_names(onehot_ftrs))\n",
    "print(len(enc.get_feature_names(onehot_ftrs)))\n",
    "\n",
    "# transform X_train\n",
    "onehot_train = enc.transform(X_train[onehot_ftrs])\n",
    "print('transformed train features:')\n",
    "print(onehot_train)\n",
    "# transform X_val\n",
    "onehot_val = enc.transform(X_val[onehot_ftrs])\n",
    "print('transformed val features:')\n",
    "print(onehot_val)\n",
    "# transform X_test\n",
    "onehot_test = enc.transform(X_test[onehot_ftrs])\n",
    "print('transformed test features:')\n",
    "print(onehot_test)"
   ]
  },
  {
   "cell_type": "code",
   "execution_count": 20,
   "id": "b667db9d",
   "metadata": {},
   "outputs": [
    {
     "name": "stdout",
     "output_type": "stream",
     "text": [
      "transformed train features:\n",
      "[[ 1.  1.  1.  1.  5.]\n",
      " [ 2.  1.  1.  1. 21.]\n",
      " [ 1.  1.  1.  1. 16.]\n",
      " ...\n",
      " [ 2.  1.  1.  1. 15.]\n",
      " [ 3.  2.  1.  1. 29.]\n",
      " [ 1.  1.  1.  1. 23.]]\n",
      "transformed validation features:\n",
      "[[ 2.  1.  1.  1. 15.]\n",
      " [ 1.  0.  1.  1. 20.]\n",
      " [ 2.  1.  1.  2. 24.]\n",
      " ...\n",
      " [ 2.  1.  1.  1. 16.]\n",
      " [ 1.  1.  1.  1. 23.]\n",
      " [ 3.  2.  1.  2. 21.]]\n",
      "transformed test features:\n",
      "[[ 2.  1.  1.  1. 23.]\n",
      " [ 2.  1.  1.  1. 17.]\n",
      " [ 3.  1.  1.  1.  5.]\n",
      " ...\n",
      " [ 2.  1.  1.  1.  5.]\n",
      " [ 2.  2.  1.  2. 17.]\n",
      " [ 1.  1.  1.  1.  5.]]\n"
     ]
    }
   ],
   "source": [
    "#odinal\n",
    "#livingRoom, drawingRoom, kitchen, bathroom, and floor\n",
    "#construction time is not fitted for here, I moved it to cts, even though it should be a cate feature\n",
    "from sklearn.preprocessing import OrdinalEncoder\n",
    "ordinal_ftrs = ['livingRoom','drawingRoom','kitchen','bathRoom','floor'] \n",
    "ordinal_cats = [['0.0','1.0','2.0','3.0','4.0','5.0','6.0','7.0','8.0','9.0'],['0.0','1.0','2.0','3.0','4.0','5.0'],['0','1','2','3'],['0.0','1.0','2.0','3.0','4.0','5.0','6.0','7.0'],['1.0','2.0','3.0', '4.0', '5.0','6.0', '7.0', '8.0', '9.0', '10.0','11.0','12.0','13.0','14.0','15.0','16.0','17.0','18.0','19.0','20.0','21.0','22.0','23.0','24.0','25.0','26.0','27.0','28.0','29.0','30.0','31.0','32.0','33.0','34.0','35.0','36.0','37.0','42.0','57.0','63.0']]\n",
    "enc = OrdinalEncoder(categories = ordinal_cats)  \n",
    "enc.fit(X_train[ordinal_ftrs]) \n",
    "ordinal_train = enc.transform(X_train[ordinal_ftrs])\n",
    "print('transformed train features:')\n",
    "print(ordinal_train)\n",
    "ordinal_val = enc.transform(X_val[ordinal_ftrs])\n",
    "print('transformed validation features:')\n",
    "print(ordinal_val)\n",
    "ordinal_test = enc.transform(X_test[ordinal_ftrs])\n",
    "print('transformed test features:')\n",
    "print(ordinal_test)"
   ]
  },
  {
   "cell_type": "code",
   "execution_count": null,
   "id": "c6225906",
   "metadata": {},
   "outputs": [],
   "source": []
  }
 ],
 "metadata": {
  "kernelspec": {
   "display_name": "Python 3 (ipykernel)",
   "language": "python",
   "name": "python3"
  },
  "language_info": {
   "codemirror_mode": {
    "name": "ipython",
    "version": 3
   },
   "file_extension": ".py",
   "mimetype": "text/x-python",
   "name": "python",
   "nbconvert_exporter": "python",
   "pygments_lexer": "ipython3",
   "version": "3.9.7"
  }
 },
 "nbformat": 4,
 "nbformat_minor": 5
}
